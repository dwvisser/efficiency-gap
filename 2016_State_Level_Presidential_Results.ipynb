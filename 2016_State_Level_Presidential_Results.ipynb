{
 "cells": [
  {
   "cell_type": "code",
   "execution_count": 3,
   "metadata": {
    "collapsed": true
   },
   "outputs": [],
   "source": [
    "import pandas as pd\n",
    "import numpy as np\n",
    "from bs4 import BeautifulSoup\n",
    "import urllib\n",
    "from IPython.display import display, display_pretty, Javascript, HTML"
   ]
  },
  {
   "cell_type": "markdown",
   "metadata": {},
   "source": [
    "## Townhall data"
   ]
  },
  {
   "cell_type": "code",
   "execution_count": 1,
   "metadata": {
    "collapsed": true
   },
   "outputs": [],
   "source": [
    "filename = '2016_US_State_Level_Presidential_Results.csv'"
   ]
  },
  {
   "cell_type": "markdown",
   "metadata": {},
   "source": [
    "Run the next 2 cells if you have the CSV file already."
   ]
  },
  {
   "cell_type": "code",
   "execution_count": 4,
   "metadata": {
    "collapsed": false
   },
   "outputs": [],
   "source": [
    "townhall = pd.read_csv(filename)"
   ]
  },
  {
   "cell_type": "code",
   "execution_count": 5,
   "metadata": {
    "collapsed": false
   },
   "outputs": [
    {
     "data": {
      "text/html": [
       "<div>\n",
       "<table border=\"1\" class=\"dataframe\">\n",
       "  <thead>\n",
       "    <tr style=\"text-align: right;\">\n",
       "      <th></th>\n",
       "      <th>state_abbr</th>\n",
       "      <th>candidate_name</th>\n",
       "      <th>party</th>\n",
       "      <th>votes_total</th>\n",
       "    </tr>\n",
       "  </thead>\n",
       "  <tbody>\n",
       "    <tr>\n",
       "      <th>0</th>\n",
       "      <td>AL</td>\n",
       "      <td>Donald Trump</td>\n",
       "      <td>GOP</td>\n",
       "      <td>1306925.0</td>\n",
       "    </tr>\n",
       "    <tr>\n",
       "      <th>1</th>\n",
       "      <td>AL</td>\n",
       "      <td>Hillary Clinton</td>\n",
       "      <td>DEM</td>\n",
       "      <td>718084.0</td>\n",
       "    </tr>\n",
       "    <tr>\n",
       "      <th>2</th>\n",
       "      <td>AL</td>\n",
       "      <td>Gary Johnson</td>\n",
       "      <td>LIB</td>\n",
       "      <td>43869.0</td>\n",
       "    </tr>\n",
       "    <tr>\n",
       "      <th>3</th>\n",
       "      <td>AL</td>\n",
       "      <td>Jill Stein</td>\n",
       "      <td>GRN</td>\n",
       "      <td>9287.0</td>\n",
       "    </tr>\n",
       "    <tr>\n",
       "      <th>4</th>\n",
       "      <td>AK</td>\n",
       "      <td>Donald Trump</td>\n",
       "      <td>GOP</td>\n",
       "      <td>130415.0</td>\n",
       "    </tr>\n",
       "  </tbody>\n",
       "</table>\n",
       "</div>"
      ],
      "text/plain": [
       "  state_abbr   candidate_name party  votes_total\n",
       "0         AL     Donald Trump   GOP    1306925.0\n",
       "1         AL  Hillary Clinton   DEM     718084.0\n",
       "2         AL     Gary Johnson   LIB      43869.0\n",
       "3         AL       Jill Stein   GRN       9287.0\n",
       "4         AK     Donald Trump   GOP     130415.0"
      ]
     },
     "execution_count": 5,
     "metadata": {},
     "output_type": "execute_result"
    }
   ],
   "source": [
    "del townhall['Unnamed: 0']\n",
    "townhall.head()"
   ]
  },
  {
   "cell_type": "markdown",
   "metadata": {},
   "source": [
    "Run the next 4 cells to generate the CSV file data if you don't have it."
   ]
  },
  {
   "cell_type": "code",
   "execution_count": 2,
   "metadata": {
    "collapsed": false
   },
   "outputs": [],
   "source": [
    "# each page has a summary table that rolls up results at the state level\n",
    "# use it\n",
    "def cond(x):\n",
    "    if x:\n",
    "        return x.startswith(\"table ec-table\") and \"table ec-table ec-table-summary\" in x\n",
    "    else:\n",
    "        return False"
   ]
  },
  {
   "cell_type": "code",
   "execution_count": 3,
   "metadata": {
    "collapsed": false
   },
   "outputs": [],
   "source": [
    "# list of state abbreviations\n",
    "states = ['AL','AK','AZ','AR','CA','CO','CT','DC','DE','FL','GA','HI','ID','IL','IN','IA','KS','KY','LA','ME','MD','MA','MI','MN','MS','MO','MT','NE','NV','NH','NJ','NM','NY','NC','ND','OH','OK','OR','PA','RI','SC','SD','TN','TX','UT','VT','VA','WA','WV','WI','WY']\n",
    "\n",
    "# headers for csv export\n",
    "data = [['state_abbr', 'candidate_name', 'party', 'votes_total']]"
   ]
  },
  {
   "cell_type": "code",
   "execution_count": 4,
   "metadata": {
    "collapsed": true
   },
   "outputs": [],
   "source": [
    "# loop through each state's web page http://townhall.com/election/2016/president/%s/county, where %s is the state abbr\n",
    "for state in states:\n",
    "    r = urllib.request.urlopen('http://townhall.com/election/2016/president/' + state + '/county').read()\n",
    "    soup = BeautifulSoup(r, \"html.parser\")\n",
    "\n",
    "    # loop through each <table> tag with .ec-table class\n",
    "    tables = soup.findAll('table', attrs={'class':cond})\n",
    "\n",
    "    for table in tables:\n",
    "        if table.findParent(\"table\") is None:\n",
    "            table_body = table.find('tbody')\n",
    "\n",
    "            rows = table_body.find_all('tr')\n",
    "            for row in rows:\n",
    "                cols = row.find_all('td')\n",
    "                # first tbody tr has four td\n",
    "                # strip text from each td\n",
    "                divs = cols[0].find_all('div')\n",
    "                candidate_name = cols[0].text.strip()\n",
    "                party = cols[1]['class'][0]\n",
    "                total_votes = int(cols[1].text.strip().replace(',','').replace('-','0'))\n",
    "                    \n",
    "                #combine each row's results\n",
    "                rowData = [state, candidate_name, party, total_votes]\n",
    "                data.append(rowData)"
   ]
  },
  {
   "cell_type": "code",
   "execution_count": 5,
   "metadata": {
    "collapsed": false
   },
   "outputs": [
    {
     "name": "stdout",
     "output_type": "stream",
     "text": [
      "235\n"
     ]
    },
    {
     "data": {
      "text/html": [
       "<div>\n",
       "<table border=\"1\" class=\"dataframe\">\n",
       "  <thead>\n",
       "    <tr style=\"text-align: right;\">\n",
       "      <th></th>\n",
       "      <th>state_abbr</th>\n",
       "      <th>candidate_name</th>\n",
       "      <th>party</th>\n",
       "      <th>votes_total</th>\n",
       "    </tr>\n",
       "  </thead>\n",
       "  <tbody>\n",
       "    <tr>\n",
       "      <th>1</th>\n",
       "      <td>AL</td>\n",
       "      <td>Donald Trump</td>\n",
       "      <td>GOP</td>\n",
       "      <td>1306925.0</td>\n",
       "    </tr>\n",
       "    <tr>\n",
       "      <th>2</th>\n",
       "      <td>AL</td>\n",
       "      <td>Hillary Clinton</td>\n",
       "      <td>DEM</td>\n",
       "      <td>718084.0</td>\n",
       "    </tr>\n",
       "    <tr>\n",
       "      <th>3</th>\n",
       "      <td>AL</td>\n",
       "      <td>Gary Johnson</td>\n",
       "      <td>IND</td>\n",
       "      <td>43869.0</td>\n",
       "    </tr>\n",
       "    <tr>\n",
       "      <th>4</th>\n",
       "      <td>AL</td>\n",
       "      <td>Jill Stein</td>\n",
       "      <td>IND</td>\n",
       "      <td>9287.0</td>\n",
       "    </tr>\n",
       "    <tr>\n",
       "      <th>5</th>\n",
       "      <td>AK</td>\n",
       "      <td>Donald Trump</td>\n",
       "      <td>GOP</td>\n",
       "      <td>130415.0</td>\n",
       "    </tr>\n",
       "  </tbody>\n",
       "</table>\n",
       "</div>"
      ],
      "text/plain": [
       "0 state_abbr   candidate_name party  votes_total\n",
       "1         AL     Donald Trump   GOP    1306925.0\n",
       "2         AL  Hillary Clinton   DEM     718084.0\n",
       "3         AL     Gary Johnson   IND      43869.0\n",
       "4         AL       Jill Stein   IND       9287.0\n",
       "5         AK     Donald Trump   GOP     130415.0"
      ]
     },
     "execution_count": 5,
     "metadata": {},
     "output_type": "execute_result"
    }
   ],
   "source": [
    "townhall = pd.DataFrame(data) # throw results in dataframe\n",
    "new_header = townhall.iloc[0] #grab the first row for the header\n",
    "townhall = townhall[1:] #take the data less the header row\n",
    "townhall.columns = new_header #set the header row as the df header\n",
    "townhall['votes_total'] = townhall['votes_total'].astype('float64')\n",
    "print(townhall.shape[0])\n",
    "townhall.head()"
   ]
  },
  {
   "cell_type": "markdown",
   "metadata": {},
   "source": [
    "Run all the rest to work with the townhall.com data."
   ]
  },
  {
   "cell_type": "code",
   "execution_count": 6,
   "metadata": {
    "collapsed": false
   },
   "outputs": [
    {
     "data": {
      "text/html": [
       "<div>\n",
       "<table border=\"1\" class=\"dataframe\">\n",
       "  <thead>\n",
       "    <tr style=\"text-align: right;\">\n",
       "      <th></th>\n",
       "      <th>state_abbr</th>\n",
       "      <th>candidate_name</th>\n",
       "      <th>party</th>\n",
       "      <th>votes_total</th>\n",
       "    </tr>\n",
       "  </thead>\n",
       "  <tbody>\n",
       "    <tr>\n",
       "      <th>154</th>\n",
       "      <td>ND</td>\n",
       "      <td>Donald Trump</td>\n",
       "      <td>GOP</td>\n",
       "      <td>216133.0</td>\n",
       "    </tr>\n",
       "    <tr>\n",
       "      <th>155</th>\n",
       "      <td>ND</td>\n",
       "      <td>Hillary Clinton</td>\n",
       "      <td>DEM</td>\n",
       "      <td>93526.0</td>\n",
       "    </tr>\n",
       "    <tr>\n",
       "      <th>156</th>\n",
       "      <td>ND</td>\n",
       "      <td>Gary Johnson</td>\n",
       "      <td>LIB</td>\n",
       "      <td>21351.0</td>\n",
       "    </tr>\n",
       "    <tr>\n",
       "      <th>157</th>\n",
       "      <td>ND</td>\n",
       "      <td>Jill Stein</td>\n",
       "      <td>GRN</td>\n",
       "      <td>3769.0</td>\n",
       "    </tr>\n",
       "    <tr>\n",
       "      <th>158</th>\n",
       "      <td>ND</td>\n",
       "      <td>Other</td>\n",
       "      <td>OTH</td>\n",
       "      <td>2189.0</td>\n",
       "    </tr>\n",
       "  </tbody>\n",
       "</table>\n",
       "</div>"
      ],
      "text/plain": [
       "    state_abbr   candidate_name party  votes_total\n",
       "154         ND     Donald Trump   GOP     216133.0\n",
       "155         ND  Hillary Clinton   DEM      93526.0\n",
       "156         ND     Gary Johnson   LIB      21351.0\n",
       "157         ND       Jill Stein   GRN       3769.0\n",
       "158         ND            Other   OTH       2189.0"
      ]
     },
     "execution_count": 6,
     "metadata": {},
     "output_type": "execute_result"
    }
   ],
   "source": [
    "# view by state\n",
    "townhall[(townhall['state_abbr'] == 'ND')]"
   ]
  },
  {
   "cell_type": "code",
   "execution_count": 8,
   "metadata": {
    "collapsed": false
   },
   "outputs": [
    {
     "name": "stdout",
     "output_type": "stream",
     "text": [
      "0   state_abbr candidate_name party  votes_total\n",
      "3           AL   Gary Johnson   LIB      43869.0\n",
      "4           AL     Jill Stein   GRN       9287.0\n",
      "7           AK   Gary Johnson   LIB      14593.0\n",
      "8           AK     Jill Stein   GRN       4445.0\n",
      "12          AZ   Gary Johnson   LIB      80151.0\n",
      "13          AZ     Jill Stein   GRN      25255.0\n",
      "16          AR   Gary Johnson   LIB      29518.0\n",
      "18          AR     Jill Stein   GRN       9837.0\n",
      "21          CA   Gary Johnson   LIB     402406.0\n",
      "22          CA     Jill Stein   GRN     220312.0\n",
      "26          CO   Gary Johnson   LIB     129451.0\n",
      "27          CO     Jill Stein   GRN      33147.0\n",
      "32          CT   Gary Johnson   LIB      48051.0\n",
      "33          CT     Jill Stein   GRN      22793.0\n",
      "36          DC   Gary Johnson   LIB       4501.0\n",
      "37          DC     Jill Stein   GRN       3995.0\n",
      "40          DE   Gary Johnson   LIB      14751.0\n",
      "41          DE     Jill Stein   GRN       6100.0\n",
      "44          FL   Gary Johnson   LIB     206007.0\n",
      "45          FL     Jill Stein   GRN      64019.0\n",
      "49          GA   Gary Johnson   LIB     123641.0\n",
      "52          HI   Gary Johnson   LIB      15949.0\n",
      "53          HI     Jill Stein   GRN      12727.0\n",
      "58          ID   Gary Johnson   LIB      28256.0\n",
      "59          ID     Jill Stein   GRN       8464.0\n",
      "63          IL   Gary Johnson   LIB     204491.0\n",
      "64          IL     Jill Stein   GRN      74112.0\n",
      "67          IN   Gary Johnson   LIB     133856.0\n",
      "70          IA   Gary Johnson   LIB      57322.0\n",
      "73          IA     Jill Stein   GRN      11119.0\n",
      "..         ...            ...   ...          ...\n",
      "162         OH   Gary Johnson   LIB     168599.0\n",
      "163         OH     Jill Stein   GRN      44310.0\n",
      "167         OK   Gary Johnson   LIB      83334.0\n",
      "170         OR   Gary Johnson   LIB      86306.0\n",
      "171         OR     Jill Stein   GRN      45132.0\n",
      "174         PA   Gary Johnson   LIB     142653.0\n",
      "175         PA     Jill Stein   GRN      48912.0\n",
      "179         RI   Gary Johnson   LIB      14643.0\n",
      "180         RI     Jill Stein   GRN       6155.0\n",
      "183         SC   Gary Johnson   LIB      48715.0\n",
      "185         SC     Jill Stein   GRN      12917.0\n",
      "189         SD   Gary Johnson   LIB      20845.0\n",
      "193         TN   Gary Johnson   LIB      70084.0\n",
      "194         TN     Jill Stein   GRN      15919.0\n",
      "198         TX   Gary Johnson   LIB     282524.0\n",
      "199         TX     Jill Stein   GRN      71307.0\n",
      "203         UT   Gary Johnson   LIB      33142.0\n",
      "205         UT     Jill Stein   GRN       7695.0\n",
      "208         VT   Gary Johnson   LIB      10047.0\n",
      "209         VT     Jill Stein   GRN       6748.0\n",
      "213         VA   Gary Johnson   LIB     116600.0\n",
      "215         VA     Jill Stein   GRN      27272.0\n",
      "218         WA   Gary Johnson   LIB     144599.0\n",
      "219         WA     Jill Stein   GRN      51066.0\n",
      "223         WV   Gary Johnson   LIB      22798.0\n",
      "224         WV     Jill Stein   GRN       8000.0\n",
      "228         WI   Gary Johnson   LIB     106442.0\n",
      "229         WI     Jill Stein   GRN      30980.0\n",
      "233         WY   Gary Johnson   LIB      13285.0\n",
      "235         WY     Jill Stein   GRN       2512.0\n",
      "\n",
      "[96 rows x 4 columns]\n"
     ]
    }
   ],
   "source": [
    "# fix third party candidates\n",
    "townhall.loc[townhall['candidate_name'] =='Jill Stein', 'party'] = 'GRN'\n",
    "townhall.loc[townhall['candidate_name'] == 'Gary Johnson', 'party'] = 'LIB'\n",
    "print(townhall[(townhall['candidate_name'] == 'Jill Stein') | (townhall['candidate_name'] == 'Gary Johnson')])"
   ]
  },
  {
   "cell_type": "code",
   "execution_count": 7,
   "metadata": {
    "collapsed": true
   },
   "outputs": [],
   "source": [
    "party_pivot = pd.pivot_table(data=townhall, index=['state_abbr'], values=['votes_total'], columns=['party'],\n",
    "                             fill_value=0.0, aggfunc=np.sum)"
   ]
  },
  {
   "cell_type": "code",
   "execution_count": 8,
   "metadata": {
    "collapsed": false
   },
   "outputs": [
    {
     "name": "stderr",
     "output_type": "stream",
     "text": [
      "/home/dale/miniconda3/envs/analysis/lib/python3.5/site-packages/pandas/core/indexing.py:296: SettingWithCopyWarning: \n",
      "A value is trying to be set on a copy of a slice from a DataFrame.\n",
      "Try using .loc[row_indexer,col_indexer] = value instead\n",
      "\n",
      "See the caveats in the documentation: http://pandas.pydata.org/pandas-docs/stable/indexing.html#indexing-view-versus-copy\n",
      "  self.obj[key] = _infer_fill_value(value)\n",
      "/home/dale/miniconda3/envs/analysis/lib/python3.5/site-packages/pandas/core/indexing.py:476: SettingWithCopyWarning: \n",
      "A value is trying to be set on a copy of a slice from a DataFrame.\n",
      "Try using .loc[row_indexer,col_indexer] = value instead\n",
      "\n",
      "See the caveats in the documentation: http://pandas.pydata.org/pandas-docs/stable/indexing.html#indexing-view-versus-copy\n",
      "  self.obj[item] = s\n"
     ]
    }
   ],
   "source": [
    "eff = party_pivot['votes_total']\n",
    "eff.loc[:,'total'] = eff.sum(axis=1)\n",
    "eff.loc[:,'dem_waste'] = (eff['DEM'] - eff['GOP'] - 1.0).where(eff['DEM'] > eff['GOP'], eff['DEM'])\n",
    "eff.loc[:,'gop_waste'] = (eff['GOP'] - eff['GOP'] - 1.0).where(eff['DEM'] < eff['GOP'], eff['GOP'])"
   ]
  },
  {
   "cell_type": "code",
   "execution_count": 9,
   "metadata": {
    "collapsed": false
   },
   "outputs": [
    {
     "data": {
      "text/plain": [
       "{'efficiency_gap': 0.15757208192775377,\n",
       " 'total_votes': 130165463,\n",
       " 'wasted_dem_votes': 41516759.0,\n",
       " 'wasted_gop_votes': 21006316.0}"
      ]
     },
     "execution_count": 9,
     "metadata": {},
     "output_type": "execute_result"
    }
   ],
   "source": [
    "results={'total_votes': eff['total'].sum(), 'wasted_gop_votes': eff['gop_waste'].sum(),\n",
    "         'wasted_dem_votes': eff['dem_waste'].sum()}\n",
    "results['efficiency_gap'] = (results['wasted_dem_votes']-results['wasted_gop_votes'])/results['total_votes']\n",
    "results"
   ]
  },
  {
   "cell_type": "markdown",
   "metadata": {},
   "source": [
    "## Export data"
   ]
  },
  {
   "cell_type": "code",
   "execution_count": 12,
   "metadata": {
    "collapsed": true
   },
   "outputs": [],
   "source": [
    "townhall.to_csv(filename,sep=',')"
   ]
  }
 ],
 "metadata": {
  "anaconda-cloud": {},
  "kernelspec": {
   "display_name": "Python [conda env:analysis]",
   "language": "python",
   "name": "conda-env-analysis-py"
  },
  "language_info": {
   "codemirror_mode": {
    "name": "ipython",
    "version": 3
   },
   "file_extension": ".py",
   "mimetype": "text/x-python",
   "name": "python",
   "nbconvert_exporter": "python",
   "pygments_lexer": "ipython3",
   "version": "3.5.2"
  }
 },
 "nbformat": 4,
 "nbformat_minor": 1
}
